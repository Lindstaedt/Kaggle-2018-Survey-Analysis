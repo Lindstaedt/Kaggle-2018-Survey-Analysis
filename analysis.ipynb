{
 "cells": [
  {
   "cell_type": "markdown",
   "metadata": {},
   "source": [
    "# Kaggle 2018 Survey Analysis"
   ]
  },
  {
   "cell_type": "markdown",
   "metadata": {},
   "source": [
    "## Overview\n",
    "This workbook contains an exploratory data analysis of the Kaggle 2018 Survey data (originally downloaded from https://www.kaggle.com/kaggle/kaggle-survey-2018/)"
   ]
  },
  {
   "cell_type": "code",
   "execution_count": 83,
   "metadata": {},
   "outputs": [],
   "source": [
    "# import libraries\n",
    "import numpy as np\n",
    "import pandas as pd\n",
    "import matplotlib.pyplot as plt\n",
    "import seaborn as sns\n",
    "import pixiedust\n",
    "\n",
    "# magic word for producing visualizations in notebook\n",
    "%matplotlib inline\n",
    "\n",
    "# magic for pixiedebugger\n",
    "\n",
    "# magic for autocomplete\n",
    "%config IPCompleter.greedy=True\n"
   ]
  },
  {
   "cell_type": "markdown",
   "metadata": {},
   "source": [
    "## Load data and initial overview of data set\n",
    "The data set contains three files. For this analysis we will only use the file 'multipleChoiceResponses.csv'."
   ]
  },
  {
   "cell_type": "code",
   "execution_count": 2,
   "metadata": {},
   "outputs": [
    {
     "name": "stderr",
     "output_type": "stream",
     "text": [
      "C:\\Users\\Lindstaedt\\Anaconda3\\lib\\site-packages\\IPython\\core\\interactiveshell.py:3020: DtypeWarning: Columns (0,2,8,10,21,23,24,25,26,27,28,44,56,64,83,85,87,107,109,123,125,150,157,172,174,194,210,218,219,223,246,249,262,264,276,277,278,279,280,281,282,283,284,285,286,287,288,289,290,304,306,325,326,329,341,368,371,384,385,389,390,391,393,394) have mixed types. Specify dtype option on import or set low_memory=False.\n",
      "  interactivity=interactivity, compiler=compiler, result=result)\n"
     ]
    }
   ],
   "source": [
    "df = pd.read_csv('data\\multipleChoiceResponses.csv')"
   ]
  },
  {
   "cell_type": "code",
   "execution_count": 3,
   "metadata": {},
   "outputs": [
    {
     "name": "stdout",
     "output_type": "stream",
     "text": [
      "<class 'pandas.core.frame.DataFrame'>\n",
      "RangeIndex: 23860 entries, 0 to 23859\n",
      "Columns: 395 entries, Time from Start to Finish (seconds) to Q50_OTHER_TEXT\n",
      "dtypes: object(395)\n",
      "memory usage: 71.9+ MB\n"
     ]
    }
   ],
   "source": [
    "df.info()"
   ]
  },
  {
   "cell_type": "code",
   "execution_count": 4,
   "metadata": {},
   "outputs": [
    {
     "data": {
      "text/html": [
       "<div>\n",
       "<style scoped>\n",
       "    .dataframe tbody tr th:only-of-type {\n",
       "        vertical-align: middle;\n",
       "    }\n",
       "\n",
       "    .dataframe tbody tr th {\n",
       "        vertical-align: top;\n",
       "    }\n",
       "\n",
       "    .dataframe thead th {\n",
       "        text-align: right;\n",
       "    }\n",
       "</style>\n",
       "<table border=\"1\" class=\"dataframe\">\n",
       "  <thead>\n",
       "    <tr style=\"text-align: right;\">\n",
       "      <th></th>\n",
       "      <th>Time from Start to Finish (seconds)</th>\n",
       "      <th>Q1</th>\n",
       "      <th>Q1_OTHER_TEXT</th>\n",
       "      <th>Q2</th>\n",
       "      <th>Q3</th>\n",
       "      <th>Q4</th>\n",
       "      <th>Q5</th>\n",
       "      <th>Q6</th>\n",
       "      <th>Q6_OTHER_TEXT</th>\n",
       "      <th>Q7</th>\n",
       "      <th>...</th>\n",
       "      <th>Q49_OTHER_TEXT</th>\n",
       "      <th>Q50_Part_1</th>\n",
       "      <th>Q50_Part_2</th>\n",
       "      <th>Q50_Part_3</th>\n",
       "      <th>Q50_Part_4</th>\n",
       "      <th>Q50_Part_5</th>\n",
       "      <th>Q50_Part_6</th>\n",
       "      <th>Q50_Part_7</th>\n",
       "      <th>Q50_Part_8</th>\n",
       "      <th>Q50_OTHER_TEXT</th>\n",
       "    </tr>\n",
       "  </thead>\n",
       "  <tbody>\n",
       "    <tr>\n",
       "      <th>0</th>\n",
       "      <td>Duration (in seconds)</td>\n",
       "      <td>What is your gender? - Selected Choice</td>\n",
       "      <td>What is your gender? - Prefer to self-describe...</td>\n",
       "      <td>What is your age (# years)?</td>\n",
       "      <td>In which country do you currently reside?</td>\n",
       "      <td>What is the highest level of formal education ...</td>\n",
       "      <td>Which best describes your undergraduate major?...</td>\n",
       "      <td>Select the title most similar to your current ...</td>\n",
       "      <td>Select the title most similar to your current ...</td>\n",
       "      <td>In what industry is your current employer/cont...</td>\n",
       "      <td>...</td>\n",
       "      <td>What tools and methods do you use to make your...</td>\n",
       "      <td>What barriers prevent you from making your wor...</td>\n",
       "      <td>What barriers prevent you from making your wor...</td>\n",
       "      <td>What barriers prevent you from making your wor...</td>\n",
       "      <td>What barriers prevent you from making your wor...</td>\n",
       "      <td>What barriers prevent you from making your wor...</td>\n",
       "      <td>What barriers prevent you from making your wor...</td>\n",
       "      <td>What barriers prevent you from making your wor...</td>\n",
       "      <td>What barriers prevent you from making your wor...</td>\n",
       "      <td>What barriers prevent you from making your wor...</td>\n",
       "    </tr>\n",
       "    <tr>\n",
       "      <th>1</th>\n",
       "      <td>710</td>\n",
       "      <td>Female</td>\n",
       "      <td>-1</td>\n",
       "      <td>45-49</td>\n",
       "      <td>United States of America</td>\n",
       "      <td>Doctoral degree</td>\n",
       "      <td>Other</td>\n",
       "      <td>Consultant</td>\n",
       "      <td>-1</td>\n",
       "      <td>Other</td>\n",
       "      <td>...</td>\n",
       "      <td>-1</td>\n",
       "      <td>NaN</td>\n",
       "      <td>NaN</td>\n",
       "      <td>NaN</td>\n",
       "      <td>NaN</td>\n",
       "      <td>NaN</td>\n",
       "      <td>NaN</td>\n",
       "      <td>NaN</td>\n",
       "      <td>NaN</td>\n",
       "      <td>-1</td>\n",
       "    </tr>\n",
       "    <tr>\n",
       "      <th>2</th>\n",
       "      <td>434</td>\n",
       "      <td>Male</td>\n",
       "      <td>-1</td>\n",
       "      <td>30-34</td>\n",
       "      <td>Indonesia</td>\n",
       "      <td>Bachelor’s degree</td>\n",
       "      <td>Engineering (non-computer focused)</td>\n",
       "      <td>Other</td>\n",
       "      <td>0</td>\n",
       "      <td>Manufacturing/Fabrication</td>\n",
       "      <td>...</td>\n",
       "      <td>-1</td>\n",
       "      <td>NaN</td>\n",
       "      <td>NaN</td>\n",
       "      <td>NaN</td>\n",
       "      <td>NaN</td>\n",
       "      <td>NaN</td>\n",
       "      <td>NaN</td>\n",
       "      <td>NaN</td>\n",
       "      <td>NaN</td>\n",
       "      <td>-1</td>\n",
       "    </tr>\n",
       "    <tr>\n",
       "      <th>3</th>\n",
       "      <td>718</td>\n",
       "      <td>Female</td>\n",
       "      <td>-1</td>\n",
       "      <td>30-34</td>\n",
       "      <td>United States of America</td>\n",
       "      <td>Master’s degree</td>\n",
       "      <td>Computer science (software engineering, etc.)</td>\n",
       "      <td>Data Scientist</td>\n",
       "      <td>-1</td>\n",
       "      <td>I am a student</td>\n",
       "      <td>...</td>\n",
       "      <td>-1</td>\n",
       "      <td>NaN</td>\n",
       "      <td>Too time-consuming</td>\n",
       "      <td>NaN</td>\n",
       "      <td>NaN</td>\n",
       "      <td>NaN</td>\n",
       "      <td>NaN</td>\n",
       "      <td>NaN</td>\n",
       "      <td>NaN</td>\n",
       "      <td>-1</td>\n",
       "    </tr>\n",
       "    <tr>\n",
       "      <th>4</th>\n",
       "      <td>621</td>\n",
       "      <td>Male</td>\n",
       "      <td>-1</td>\n",
       "      <td>35-39</td>\n",
       "      <td>United States of America</td>\n",
       "      <td>Master’s degree</td>\n",
       "      <td>Social sciences (anthropology, psychology, soc...</td>\n",
       "      <td>Not employed</td>\n",
       "      <td>-1</td>\n",
       "      <td>NaN</td>\n",
       "      <td>...</td>\n",
       "      <td>-1</td>\n",
       "      <td>NaN</td>\n",
       "      <td>NaN</td>\n",
       "      <td>Requires too much technical knowledge</td>\n",
       "      <td>NaN</td>\n",
       "      <td>Not enough incentives to share my work</td>\n",
       "      <td>NaN</td>\n",
       "      <td>NaN</td>\n",
       "      <td>NaN</td>\n",
       "      <td>-1</td>\n",
       "    </tr>\n",
       "  </tbody>\n",
       "</table>\n",
       "<p>5 rows × 395 columns</p>\n",
       "</div>"
      ],
      "text/plain": [
       "  Time from Start to Finish (seconds)                                      Q1  \\\n",
       "0               Duration (in seconds)  What is your gender? - Selected Choice   \n",
       "1                                 710                                  Female   \n",
       "2                                 434                                    Male   \n",
       "3                                 718                                  Female   \n",
       "4                                 621                                    Male   \n",
       "\n",
       "                                       Q1_OTHER_TEXT  \\\n",
       "0  What is your gender? - Prefer to self-describe...   \n",
       "1                                                 -1   \n",
       "2                                                 -1   \n",
       "3                                                 -1   \n",
       "4                                                 -1   \n",
       "\n",
       "                            Q2                                         Q3  \\\n",
       "0  What is your age (# years)?  In which country do you currently reside?   \n",
       "1                        45-49                   United States of America   \n",
       "2                        30-34                                  Indonesia   \n",
       "3                        30-34                   United States of America   \n",
       "4                        35-39                   United States of America   \n",
       "\n",
       "                                                  Q4  \\\n",
       "0  What is the highest level of formal education ...   \n",
       "1                                    Doctoral degree   \n",
       "2                                  Bachelor’s degree   \n",
       "3                                    Master’s degree   \n",
       "4                                    Master’s degree   \n",
       "\n",
       "                                                  Q5  \\\n",
       "0  Which best describes your undergraduate major?...   \n",
       "1                                              Other   \n",
       "2                 Engineering (non-computer focused)   \n",
       "3      Computer science (software engineering, etc.)   \n",
       "4  Social sciences (anthropology, psychology, soc...   \n",
       "\n",
       "                                                  Q6  \\\n",
       "0  Select the title most similar to your current ...   \n",
       "1                                         Consultant   \n",
       "2                                              Other   \n",
       "3                                     Data Scientist   \n",
       "4                                       Not employed   \n",
       "\n",
       "                                       Q6_OTHER_TEXT  \\\n",
       "0  Select the title most similar to your current ...   \n",
       "1                                                 -1   \n",
       "2                                                  0   \n",
       "3                                                 -1   \n",
       "4                                                 -1   \n",
       "\n",
       "                                                  Q7  \\\n",
       "0  In what industry is your current employer/cont...   \n",
       "1                                              Other   \n",
       "2                          Manufacturing/Fabrication   \n",
       "3                                     I am a student   \n",
       "4                                                NaN   \n",
       "\n",
       "                         ...                          \\\n",
       "0                        ...                           \n",
       "1                        ...                           \n",
       "2                        ...                           \n",
       "3                        ...                           \n",
       "4                        ...                           \n",
       "\n",
       "                                      Q49_OTHER_TEXT  \\\n",
       "0  What tools and methods do you use to make your...   \n",
       "1                                                 -1   \n",
       "2                                                 -1   \n",
       "3                                                 -1   \n",
       "4                                                 -1   \n",
       "\n",
       "                                          Q50_Part_1  \\\n",
       "0  What barriers prevent you from making your wor...   \n",
       "1                                                NaN   \n",
       "2                                                NaN   \n",
       "3                                                NaN   \n",
       "4                                                NaN   \n",
       "\n",
       "                                          Q50_Part_2  \\\n",
       "0  What barriers prevent you from making your wor...   \n",
       "1                                                NaN   \n",
       "2                                                NaN   \n",
       "3                                 Too time-consuming   \n",
       "4                                                NaN   \n",
       "\n",
       "                                          Q50_Part_3  \\\n",
       "0  What barriers prevent you from making your wor...   \n",
       "1                                                NaN   \n",
       "2                                                NaN   \n",
       "3                                                NaN   \n",
       "4              Requires too much technical knowledge   \n",
       "\n",
       "                                          Q50_Part_4  \\\n",
       "0  What barriers prevent you from making your wor...   \n",
       "1                                                NaN   \n",
       "2                                                NaN   \n",
       "3                                                NaN   \n",
       "4                                                NaN   \n",
       "\n",
       "                                          Q50_Part_5  \\\n",
       "0  What barriers prevent you from making your wor...   \n",
       "1                                                NaN   \n",
       "2                                                NaN   \n",
       "3                                                NaN   \n",
       "4             Not enough incentives to share my work   \n",
       "\n",
       "                                          Q50_Part_6  \\\n",
       "0  What barriers prevent you from making your wor...   \n",
       "1                                                NaN   \n",
       "2                                                NaN   \n",
       "3                                                NaN   \n",
       "4                                                NaN   \n",
       "\n",
       "                                          Q50_Part_7  \\\n",
       "0  What barriers prevent you from making your wor...   \n",
       "1                                                NaN   \n",
       "2                                                NaN   \n",
       "3                                                NaN   \n",
       "4                                                NaN   \n",
       "\n",
       "                                          Q50_Part_8  \\\n",
       "0  What barriers prevent you from making your wor...   \n",
       "1                                                NaN   \n",
       "2                                                NaN   \n",
       "3                                                NaN   \n",
       "4                                                NaN   \n",
       "\n",
       "                                      Q50_OTHER_TEXT  \n",
       "0  What barriers prevent you from making your wor...  \n",
       "1                                                 -1  \n",
       "2                                                 -1  \n",
       "3                                                 -1  \n",
       "4                                                 -1  \n",
       "\n",
       "[5 rows x 395 columns]"
      ]
     },
     "execution_count": 4,
     "metadata": {},
     "output_type": "execute_result"
    }
   ],
   "source": [
    "df.head()"
   ]
  },
  {
   "cell_type": "markdown",
   "metadata": {},
   "source": [
    "#### row zero contains the questions - drop this from the dataframe and store it separately:"
   ]
  },
  {
   "cell_type": "code",
   "execution_count": 5,
   "metadata": {},
   "outputs": [],
   "source": [
    "dfQuestions = df.loc[0,:].copy()"
   ]
  },
  {
   "cell_type": "code",
   "execution_count": 6,
   "metadata": {},
   "outputs": [],
   "source": [
    "df.drop([0], inplace = True)"
   ]
  },
  {
   "cell_type": "code",
   "execution_count": 7,
   "metadata": {},
   "outputs": [
    {
     "data": {
      "text/plain": [
       "Time from Start to Finish (seconds)                                Duration (in seconds)\n",
       "Q1                                                What is your gender? - Selected Choice\n",
       "Q1_OTHER_TEXT                          What is your gender? - Prefer to self-describe...\n",
       "Q2                                                           What is your age (# years)?\n",
       "Q3                                             In which country do you currently reside?\n",
       "Q4                                     What is the highest level of formal education ...\n",
       "Q5                                     Which best describes your undergraduate major?...\n",
       "Q6                                     Select the title most similar to your current ...\n",
       "Q6_OTHER_TEXT                          Select the title most similar to your current ...\n",
       "Q7                                     In what industry is your current employer/cont...\n",
       "Q7_OTHER_TEXT                          In what industry is your current employer/cont...\n",
       "Q8                                     How many years of experience do you have in yo...\n",
       "Q9                                     What is your current yearly compensation (appr...\n",
       "Q10                                    Does your current employer incorporate machine...\n",
       "Q11_Part_1                             Select any activities that make up an importan...\n",
       "Q11_Part_2                             Select any activities that make up an importan...\n",
       "Q11_Part_3                             Select any activities that make up an importan...\n",
       "Q11_Part_4                             Select any activities that make up an importan...\n",
       "Q11_Part_5                             Select any activities that make up an importan...\n",
       "Q11_Part_6                             Select any activities that make up an importan...\n",
       "Q11_Part_7                             Select any activities that make up an importan...\n",
       "Q11_OTHER_TEXT                         Select any activities that make up an importan...\n",
       "Q12_MULTIPLE_CHOICE                    What is the primary tool that you use at work ...\n",
       "Q12_Part_1_TEXT                        What is the primary tool that you use at work ...\n",
       "Q12_Part_2_TEXT                        What is the primary tool that you use at work ...\n",
       "Q12_Part_3_TEXT                        What is the primary tool that you use at work ...\n",
       "Q12_Part_4_TEXT                        What is the primary tool that you use at work ...\n",
       "Q12_Part_5_TEXT                        What is the primary tool that you use at work ...\n",
       "Q12_OTHER_TEXT                         What is the primary tool that you use at work ...\n",
       "Q13_Part_1                             Which of the following integrated development ...\n",
       "                                                             ...                        \n",
       "Q47_Part_10                            What methods do you prefer for explaining and/...\n",
       "Q47_Part_11                            What methods do you prefer for explaining and/...\n",
       "Q47_Part_12                            What methods do you prefer for explaining and/...\n",
       "Q47_Part_13                            What methods do you prefer for explaining and/...\n",
       "Q47_Part_14                            What methods do you prefer for explaining and/...\n",
       "Q47_Part_15                            What methods do you prefer for explaining and/...\n",
       "Q47_Part_16                            What methods do you prefer for explaining and/...\n",
       "Q48                                    Do you consider ML models to be \"black boxes\" ...\n",
       "Q49_Part_1                             What tools and methods do you use to make your...\n",
       "Q49_Part_2                             What tools and methods do you use to make your...\n",
       "Q49_Part_3                             What tools and methods do you use to make your...\n",
       "Q49_Part_4                             What tools and methods do you use to make your...\n",
       "Q49_Part_5                             What tools and methods do you use to make your...\n",
       "Q49_Part_6                             What tools and methods do you use to make your...\n",
       "Q49_Part_7                             What tools and methods do you use to make your...\n",
       "Q49_Part_8                             What tools and methods do you use to make your...\n",
       "Q49_Part_9                             What tools and methods do you use to make your...\n",
       "Q49_Part_10                            What tools and methods do you use to make your...\n",
       "Q49_Part_11                            What tools and methods do you use to make your...\n",
       "Q49_Part_12                            What tools and methods do you use to make your...\n",
       "Q49_OTHER_TEXT                         What tools and methods do you use to make your...\n",
       "Q50_Part_1                             What barriers prevent you from making your wor...\n",
       "Q50_Part_2                             What barriers prevent you from making your wor...\n",
       "Q50_Part_3                             What barriers prevent you from making your wor...\n",
       "Q50_Part_4                             What barriers prevent you from making your wor...\n",
       "Q50_Part_5                             What barriers prevent you from making your wor...\n",
       "Q50_Part_6                             What barriers prevent you from making your wor...\n",
       "Q50_Part_7                             What barriers prevent you from making your wor...\n",
       "Q50_Part_8                             What barriers prevent you from making your wor...\n",
       "Q50_OTHER_TEXT                         What barriers prevent you from making your wor...\n",
       "Name: 0, Length: 395, dtype: object"
      ]
     },
     "execution_count": 7,
     "metadata": {},
     "output_type": "execute_result"
    }
   ],
   "source": [
    "dfQuestions"
   ]
  },
  {
   "cell_type": "markdown",
   "metadata": {},
   "source": [
    "## Question 1: What are some of the demographics of the survey respondents?"
   ]
  },
  {
   "cell_type": "code",
   "execution_count": 8,
   "metadata": {},
   "outputs": [
    {
     "data": {
      "text/html": [
       "<div>\n",
       "<style scoped>\n",
       "    .dataframe tbody tr th:only-of-type {\n",
       "        vertical-align: middle;\n",
       "    }\n",
       "\n",
       "    .dataframe tbody tr th {\n",
       "        vertical-align: top;\n",
       "    }\n",
       "\n",
       "    .dataframe thead th {\n",
       "        text-align: right;\n",
       "    }\n",
       "</style>\n",
       "<table border=\"1\" class=\"dataframe\">\n",
       "  <thead>\n",
       "    <tr style=\"text-align: right;\">\n",
       "      <th></th>\n",
       "      <th>Time from Start to Finish (seconds)</th>\n",
       "      <th>Q1</th>\n",
       "      <th>Q1_OTHER_TEXT</th>\n",
       "      <th>Q2</th>\n",
       "      <th>Q3</th>\n",
       "      <th>Q4</th>\n",
       "      <th>Q5</th>\n",
       "      <th>Q6</th>\n",
       "      <th>Q6_OTHER_TEXT</th>\n",
       "      <th>Q7</th>\n",
       "      <th>...</th>\n",
       "      <th>Q49_OTHER_TEXT</th>\n",
       "      <th>Q50_Part_1</th>\n",
       "      <th>Q50_Part_2</th>\n",
       "      <th>Q50_Part_3</th>\n",
       "      <th>Q50_Part_4</th>\n",
       "      <th>Q50_Part_5</th>\n",
       "      <th>Q50_Part_6</th>\n",
       "      <th>Q50_Part_7</th>\n",
       "      <th>Q50_Part_8</th>\n",
       "      <th>Q50_OTHER_TEXT</th>\n",
       "    </tr>\n",
       "  </thead>\n",
       "  <tbody>\n",
       "    <tr>\n",
       "      <th>count</th>\n",
       "      <td>23859</td>\n",
       "      <td>23859</td>\n",
       "      <td>23859</td>\n",
       "      <td>23859</td>\n",
       "      <td>23859</td>\n",
       "      <td>23438</td>\n",
       "      <td>22947</td>\n",
       "      <td>22900</td>\n",
       "      <td>23859</td>\n",
       "      <td>21685</td>\n",
       "      <td>...</td>\n",
       "      <td>23859</td>\n",
       "      <td>1371</td>\n",
       "      <td>6478</td>\n",
       "      <td>2674</td>\n",
       "      <td>2104</td>\n",
       "      <td>3569</td>\n",
       "      <td>1059</td>\n",
       "      <td>2500</td>\n",
       "      <td>520</td>\n",
       "      <td>23859</td>\n",
       "    </tr>\n",
       "    <tr>\n",
       "      <th>unique</th>\n",
       "      <td>7641</td>\n",
       "      <td>4</td>\n",
       "      <td>69</td>\n",
       "      <td>12</td>\n",
       "      <td>58</td>\n",
       "      <td>7</td>\n",
       "      <td>13</td>\n",
       "      <td>21</td>\n",
       "      <td>900</td>\n",
       "      <td>19</td>\n",
       "      <td>...</td>\n",
       "      <td>171</td>\n",
       "      <td>1</td>\n",
       "      <td>1</td>\n",
       "      <td>1</td>\n",
       "      <td>1</td>\n",
       "      <td>1</td>\n",
       "      <td>1</td>\n",
       "      <td>1</td>\n",
       "      <td>1</td>\n",
       "      <td>414</td>\n",
       "    </tr>\n",
       "    <tr>\n",
       "      <th>top</th>\n",
       "      <td>142</td>\n",
       "      <td>Male</td>\n",
       "      <td>-1</td>\n",
       "      <td>25-29</td>\n",
       "      <td>United States of America</td>\n",
       "      <td>Master’s degree</td>\n",
       "      <td>Computer science (software engineering, etc.)</td>\n",
       "      <td>Student</td>\n",
       "      <td>-1</td>\n",
       "      <td>Computers/Technology</td>\n",
       "      <td>...</td>\n",
       "      <td>-1</td>\n",
       "      <td>Too expensive</td>\n",
       "      <td>Too time-consuming</td>\n",
       "      <td>Requires too much technical knowledge</td>\n",
       "      <td>Afraid that others will use my work without gi...</td>\n",
       "      <td>Not enough incentives to share my work</td>\n",
       "      <td>I had never considered making my work easier f...</td>\n",
       "      <td>None of these reasons apply to me</td>\n",
       "      <td>Other</td>\n",
       "      <td>-1</td>\n",
       "    </tr>\n",
       "    <tr>\n",
       "      <th>freq</th>\n",
       "      <td>31</td>\n",
       "      <td>19430</td>\n",
       "      <td>21738</td>\n",
       "      <td>6159</td>\n",
       "      <td>4716</td>\n",
       "      <td>10855</td>\n",
       "      <td>9430</td>\n",
       "      <td>5253</td>\n",
       "      <td>20603</td>\n",
       "      <td>5584</td>\n",
       "      <td>...</td>\n",
       "      <td>21658</td>\n",
       "      <td>1371</td>\n",
       "      <td>6478</td>\n",
       "      <td>2674</td>\n",
       "      <td>2104</td>\n",
       "      <td>3569</td>\n",
       "      <td>1059</td>\n",
       "      <td>2500</td>\n",
       "      <td>520</td>\n",
       "      <td>21421</td>\n",
       "    </tr>\n",
       "  </tbody>\n",
       "</table>\n",
       "<p>4 rows × 395 columns</p>\n",
       "</div>"
      ],
      "text/plain": [
       "        Time from Start to Finish (seconds)     Q1  Q1_OTHER_TEXT     Q2  \\\n",
       "count                                 23859  23859          23859  23859   \n",
       "unique                                 7641      4             69     12   \n",
       "top                                     142   Male             -1  25-29   \n",
       "freq                                     31  19430          21738   6159   \n",
       "\n",
       "                              Q3               Q4  \\\n",
       "count                      23859            23438   \n",
       "unique                        58                7   \n",
       "top     United States of America  Master’s degree   \n",
       "freq                        4716            10855   \n",
       "\n",
       "                                                   Q5       Q6  Q6_OTHER_TEXT  \\\n",
       "count                                           22947    22900          23859   \n",
       "unique                                             13       21            900   \n",
       "top     Computer science (software engineering, etc.)  Student             -1   \n",
       "freq                                             9430     5253          20603   \n",
       "\n",
       "                          Q7      ...        Q49_OTHER_TEXT     Q50_Part_1  \\\n",
       "count                  21685      ...                 23859           1371   \n",
       "unique                    19      ...                   171              1   \n",
       "top     Computers/Technology      ...                    -1  Too expensive   \n",
       "freq                    5584      ...                 21658           1371   \n",
       "\n",
       "                Q50_Part_2                             Q50_Part_3  \\\n",
       "count                 6478                                   2674   \n",
       "unique                   1                                      1   \n",
       "top     Too time-consuming  Requires too much technical knowledge   \n",
       "freq                  6478                                   2674   \n",
       "\n",
       "                                               Q50_Part_4  \\\n",
       "count                                                2104   \n",
       "unique                                                  1   \n",
       "top     Afraid that others will use my work without gi...   \n",
       "freq                                                 2104   \n",
       "\n",
       "                                    Q50_Part_5  \\\n",
       "count                                     3569   \n",
       "unique                                       1   \n",
       "top     Not enough incentives to share my work   \n",
       "freq                                      3569   \n",
       "\n",
       "                                               Q50_Part_6  \\\n",
       "count                                                1059   \n",
       "unique                                                  1   \n",
       "top     I had never considered making my work easier f...   \n",
       "freq                                                 1059   \n",
       "\n",
       "                               Q50_Part_7 Q50_Part_8 Q50_OTHER_TEXT  \n",
       "count                                2500        520          23859  \n",
       "unique                                  1          1            414  \n",
       "top     None of these reasons apply to me      Other             -1  \n",
       "freq                                 2500        520          21421  \n",
       "\n",
       "[4 rows x 395 columns]"
      ]
     },
     "execution_count": 8,
     "metadata": {},
     "output_type": "execute_result"
    }
   ],
   "source": [
    "df.describe()"
   ]
  },
  {
   "cell_type": "code",
   "execution_count": 98,
   "metadata": {
    "pixiedust": {
     "displayParams": {}
    }
   },
   "outputs": [
    {
     "data": {
      "image/png": "[encoded data removed]",
      "text/plain": [
       "<Figure size 1152x864 with 1 Axes>"
      ]
     },
     "metadata": {
      "needs_background": "light"
     },
     "output_type": "display_data"
    }
   ],
   "source": [
    "topx = 20 # use zero to show all or number. eg topx =10 for top 10\n",
    "\n",
    "ax = df.Q3.value_counts(ascending=True)[-topx:].plot(kind = 'barh', color = 'blue')\n",
    "ax.set_title(dfQuestions.Q3 + ' (Top ' + str(topx) + ')')\n",
    "ax.set_xlabel('number of responses')\n",
    "plt.rcParams['figure.figsize'] = [16,12]\n",
    "plt.savefig('img-top20-countries.jpg')\n",
    "plt.show()"
   ]
  },
  {
   "cell_type": "markdown",
   "metadata": {
    "pixiedust": {
     "displayParams": {}
    }
   },
   "source": [
    "#### Most survey answers came from the US, India, and China - let's look into gender and age distributions in those countries:"
   ]
  },
  {
   "cell_type": "code",
   "execution_count": 186,
   "metadata": {},
   "outputs": [],
   "source": [
    "df_top3_countries = df[(df.Q3 == 'United States of America') | (df.Q3 == 'India') | (df.Q3 == 'China')].copy()"
   ]
  },
  {
   "cell_type": "code",
   "execution_count": 187,
   "metadata": {},
   "outputs": [
    {
     "data": {
      "image/png": "[encoded data removed]",
      "text/plain": [
       "<Figure size 1152x432 with 1 Axes>"
      ]
     },
     "metadata": {
      "needs_background": "light"
     },
     "output_type": "display_data"
    }
   ],
   "source": [
    "sns.countplot(data = df_top3_countries, x = 'Q3', hue= 'Q1')\n",
    "plt.title('Gender split for top 3 countries')\n",
    "plt.rcParams['figure.figsize'] = [16,6]\n",
    "plt.savefig('img-top3-countries-gendersplit.jpg')\n",
    "plt.show()"
   ]
  },
  {
   "cell_type": "code",
   "execution_count": 188,
   "metadata": {},
   "outputs": [
    {
     "data": {
      "text/plain": [
       "Q3\n",
       "China                       1644\n",
       "India                       4417\n",
       "United States of America    4716\n",
       "Name: Q1, dtype: int64"
      ]
     },
     "execution_count": 188,
     "metadata": {},
     "output_type": "execute_result"
    }
   ],
   "source": [
    "# counts by country\n",
    "df_top3_countries.groupby(['Q3'])['Q1'].count()"
   ]
  },
  {
   "cell_type": "code",
   "execution_count": 189,
   "metadata": {},
   "outputs": [
    {
     "data": {
      "text/plain": [
       "Q3                        Q1                     \n",
       "China                     Male                       1337\n",
       "                          Female                      267\n",
       "                          Prefer not to say            38\n",
       "                          Prefer to self-describe       2\n",
       "India                     Male                       3719\n",
       "                          Female                      657\n",
       "                          Prefer not to say            37\n",
       "                          Prefer to self-describe       4\n",
       "United States of America  Male                       3530\n",
       "                          Female                     1082\n",
       "                          Prefer not to say            77\n",
       "                          Prefer to self-describe      27\n",
       "Name: Q1, dtype: int64"
      ]
     },
     "execution_count": 189,
     "metadata": {},
     "output_type": "execute_result"
    }
   ],
   "source": [
    "# counts by country and gender\n",
    "df_top3_countries.groupby(['Q3'])['Q1'].value_counts()"
   ]
  },
  {
   "cell_type": "code",
   "execution_count": 190,
   "metadata": {},
   "outputs": [
    {
     "data": {
      "text/plain": [
       "Q3                        Q1                     \n",
       "China                     Female                     16.240876\n",
       "                          Male                       81.326034\n",
       "                          Prefer not to say           2.311436\n",
       "                          Prefer to self-describe     0.121655\n",
       "India                     Female                     14.874349\n",
       "                          Male                       84.197419\n",
       "                          Prefer not to say           0.837673\n",
       "                          Prefer to self-describe     0.090559\n",
       "United States of America  Female                     22.943172\n",
       "                          Male                       74.851569\n",
       "                          Prefer not to say           1.632740\n",
       "                          Prefer to self-describe     0.572519\n",
       "Name: Q1, dtype: float64"
      ]
     },
     "execution_count": 190,
     "metadata": {},
     "output_type": "execute_result"
    }
   ],
   "source": [
    "# percentages by country by gender\n",
    "100.00 * df_top3_countries.groupby(['Q3', 'Q1'])['Q1'].count() / df_top3_countries.groupby(['Q3'])['Q1'].count()"
   ]
  },
  {
   "cell_type": "markdown",
   "metadata": {},
   "source": [
    "#### The US has a higher percentage of female respondents than China and India"
   ]
  },
  {
   "cell_type": "code",
   "execution_count": 191,
   "metadata": {},
   "outputs": [
    {
     "data": {
      "image/png": "[encoded data removed]",
      "text/plain": [
       "<Figure size 1152x720 with 2 Axes>"
      ]
     },
     "metadata": {
      "needs_background": "light"
     },
     "output_type": "display_data"
    }
   ],
   "source": [
    "# sorting the age categories for the count plot\n",
    "sorted_age_groups = sorted(df_top3_countries.Q2.value_counts().index)\n",
    "\n",
    "fig, ax = plt.subplots(2, 1, figsize=(16,10))\n",
    "fig.suptitle('Age split by gender for top 3 countries')\n",
    "\n",
    "ax[0].set_title('Males')\n",
    "sns.countplot(data = df_top3_countries[df_top3_countries.Q1 == 'Male'], \n",
    "              x = 'Q3',\n",
    "              order = ['United States of America', 'India', 'China'],\n",
    "              hue= 'Q2',\n",
    "              hue_order = sorted_age_groups,\n",
    "              ax = ax[0])\n",
    "\n",
    "\n",
    "ax[1].set_title('Females')\n",
    "sns.countplot(data = df_top3_countries[df_top3_countries.Q1 == 'Female'], \n",
    "              x = 'Q3',\n",
    "              order = ['United States of America', 'India', 'China'],\n",
    "              hue= 'Q2',\n",
    "              hue_order = sorted_age_groups,\n",
    "              ax = ax[1])\n",
    "\n",
    "plt.legend(loc='best')\n",
    "plt.rcParams['figure.figsize'] = [16,6]\n",
    "plt.savefig('img-top3-countries-agesplit.jpg')\n",
    "plt.show()"
   ]
  },
  {
   "cell_type": "markdown",
   "metadata": {},
   "source": [
    "#### The survey participants from India are much younger than those from the US or China. Especially, young males are overrepresented."
   ]
  },
  {
   "cell_type": "code",
   "execution_count": 237,
   "metadata": {},
   "outputs": [
    {
     "data": {
      "text/plain": [
       "I do not wish to disclose my approximate yearly compensation    2389\n",
       "0-10,000                                                        2108\n",
       "10-20,000                                                        690\n",
       "100-125,000                                                      534\n",
       "20-30,000                                                        443\n",
       "125-150,000                                                      376\n",
       "150-200,000                                                      347\n",
       "30-40,000                                                        305\n",
       "90-100,000                                                       290\n",
       "70-80,000                                                        278\n",
       "80-90,000                                                        256\n",
       "60-70,000                                                        238\n",
       "50-60,000                                                        234\n",
       "40-50,000                                                        205\n",
       "200-250,000                                                      135\n",
       "250-300,000                                                       55\n",
       "300-400,000                                                       38\n",
       "500,000+                                                          36\n",
       "400-500,000                                                       15\n",
       "Name: Q9, dtype: int64"
      ]
     },
     "execution_count": 237,
     "metadata": {},
     "output_type": "execute_result"
    }
   ],
   "source": [
    "# looking into compensation next:\n",
    "df_top3_countries.Q9.value_counts()"
   ]
  },
  {
   "cell_type": "code",
   "execution_count": 230,
   "metadata": {},
   "outputs": [],
   "source": [
    "# encode the categorical pay ranges with midpoint values\n",
    "# using midpoint is not going to give the exact distribution of pay but should help determine overall shape of pay distributions\n",
    "\n",
    "df_top3_countries['Pay'] = df_top3_countries.Q9.map({\n",
    "    'I do not wish to disclose my approximate yearly compensation': np.NaN,\n",
    "    '0-10,000': 5000,\n",
    "    '10-20,000': 15000,\n",
    "    '100-125,000': 112500,\n",
    "    '20-30,000': 25000,\n",
    "    '125-150,000': 137500,\n",
    "    '150-200,000': 175000,\n",
    "    '30-40,000': 35000,\n",
    "    '90-100,000': 95000,\n",
    "    '70-80,000': 75000,\n",
    "    '80-90,000': 85000,\n",
    "    '60-70,000': 65000,\n",
    "    '50-60,000': 55000,\n",
    "    '40-50,000': 45000,\n",
    "    '200-250,000': 225000,\n",
    "    '250-300,000': 275000,\n",
    "    '300-400,000': 350000,\n",
    "    '500,000+': 500000,\n",
    "    '400-500,000': 450000})"
   ]
  },
  {
   "cell_type": "code",
   "execution_count": 239,
   "metadata": {},
   "outputs": [
    {
     "data": {
      "image/png": "[encoded data removed]",
      "text/plain": [
       "<Figure size 432.625x360 with 1 Axes>"
      ]
     },
     "metadata": {
      "needs_background": "light"
     },
     "output_type": "display_data"
    }
   ],
   "source": [
    "sns.catplot(data = df_top3_countries.loc[((df_top3_countries.Q1 == 'Female') | (df_top3_countries.Q1 == 'Male')) # male or female\n",
    "                                         & (df_top3_countries.Pay.notnull())], # skip the NaNs\n",
    "            x='Q3', \n",
    "            hue='Q1', \n",
    "            y='Pay', \n",
    "            kind='violin',\n",
    "            split=True)\n",
    "plt.title('Approximated pay distribution by country and gender')\n",
    "plt.savefig('img-top3-countries-incomedistribution.jpg')\n",
    "plt.show()"
   ]
  },
  {
   "cell_type": "markdown",
   "metadata": {},
   "source": [
    "Notice that the charts show values close to and below zero. This is an artifact of the plotting library trying to make a smooth chart of the distribution. The lowest values are 5000 in each chart."
   ]
  },
  {
   "cell_type": "code",
   "execution_count": 229,
   "metadata": {},
   "outputs": [
    {
     "data": {
      "text/html": [
       "<div>\n",
       "<style scoped>\n",
       "    .dataframe tbody tr th:only-of-type {\n",
       "        vertical-align: middle;\n",
       "    }\n",
       "\n",
       "    .dataframe tbody tr th {\n",
       "        vertical-align: top;\n",
       "    }\n",
       "\n",
       "    .dataframe thead th {\n",
       "        text-align: right;\n",
       "    }\n",
       "</style>\n",
       "<table border=\"1\" class=\"dataframe\">\n",
       "  <thead>\n",
       "    <tr style=\"text-align: right;\">\n",
       "      <th></th>\n",
       "      <th>Pay</th>\n",
       "    </tr>\n",
       "  </thead>\n",
       "  <tbody>\n",
       "    <tr>\n",
       "      <th>count</th>\n",
       "      <td>6498.000000</td>\n",
       "    </tr>\n",
       "    <tr>\n",
       "      <th>mean</th>\n",
       "      <td>61213.450292</td>\n",
       "    </tr>\n",
       "    <tr>\n",
       "      <th>std</th>\n",
       "      <td>72828.982108</td>\n",
       "    </tr>\n",
       "    <tr>\n",
       "      <th>min</th>\n",
       "      <td>5000.000000</td>\n",
       "    </tr>\n",
       "    <tr>\n",
       "      <th>25%</th>\n",
       "      <td>5000.000000</td>\n",
       "    </tr>\n",
       "    <tr>\n",
       "      <th>50%</th>\n",
       "      <td>35000.000000</td>\n",
       "    </tr>\n",
       "    <tr>\n",
       "      <th>75%</th>\n",
       "      <td>95000.000000</td>\n",
       "    </tr>\n",
       "    <tr>\n",
       "      <th>max</th>\n",
       "      <td>500000.000000</td>\n",
       "    </tr>\n",
       "  </tbody>\n",
       "</table>\n",
       "</div>"
      ],
      "text/plain": [
       "                 Pay\n",
       "count    6498.000000\n",
       "mean    61213.450292\n",
       "std     72828.982108\n",
       "min      5000.000000\n",
       "25%      5000.000000\n",
       "50%     35000.000000\n",
       "75%     95000.000000\n",
       "max    500000.000000"
      ]
     },
     "execution_count": 229,
     "metadata": {},
     "output_type": "execute_result"
    }
   ],
   "source": [
    "df_top3_countries.loc[((df_top3_countries.Q1 == 'Female') | (df_top3_countries.Q1 == 'Male'))\n",
    "                                         & (df_top3_countries.Pay.notnull())][['Pay']].describe()"
   ]
  },
  {
   "cell_type": "code",
   "execution_count": null,
   "metadata": {},
   "outputs": [],
   "source": []
  }
 ],
 "metadata": {
  "kernelspec": {
   "display_name": "Python 3",
   "language": "python",
   "name": "python3"
  },
  "language_info": {
   "codemirror_mode": {
    "name": "ipython",
    "version": 3
   },
   "file_extension": ".py",
   "mimetype": "text/x-python",
   "name": "python",
   "nbconvert_exporter": "python",
   "pygments_lexer": "ipython3",
   "version": "3.6.7"
  }
 },
 "nbformat": 4,
 "nbformat_minor": 2
}
